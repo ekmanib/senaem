{
 "cells": [
  {
   "cell_type": "code",
   "execution_count": 50,
   "metadata": {},
   "outputs": [
    {
     "name": "stdout",
     "output_type": "stream",
     "text": [
      "c:\\Users\\Elias\\Desktop\\GitHub\\d-hub\\data\\senaem\\testing\n"
     ]
    }
   ],
   "source": [
    "import os\n",
    "import glob\n",
    "import pandas as pd\n",
    "import numpy as np\n",
    "import collections\n",
    "\n",
    "print(os.getcwd())"
   ]
  },
  {
   "cell_type": "code",
   "execution_count": 3,
   "metadata": {},
   "outputs": [],
   "source": [
    "df = pd.read_csv('../downloads/senae_importacion_simplificado_enero_diciembre_2013.csv')"
   ]
  },
  {
   "cell_type": "code",
   "execution_count": null,
   "metadata": {},
   "outputs": [],
   "source": [
    "titus = pd.read_excel('../files_support/chapters_only.xlsx')\n",
    "titus['TÍTULO'] = titus['TÍTULO'].str.split(pat = '.', expand=True)[1]\n",
    "titus.set_index('CAPÍTULO', inplace=True)\n",
    "sa = titus.to_dict(orient='dict')['TÍTULO']"
   ]
  },
  {
   "cell_type": "code",
   "execution_count": 117,
   "metadata": {},
   "outputs": [
    {
     "name": "stdout",
     "output_type": "stream",
     "text": [
      "['../downloads\\\\senae_importacion_general_enero_junio_2013.csv', '../downloads\\\\senae_importacion_general_julio_diciembre_2013.csv', '../downloads\\\\senae_importacion_simplificado_enero_diciembre_2013.csv']\n",
      "['../downloads\\\\senae_importacion_general_enero_junio_2014.csv', '../downloads\\\\senae_importacion_general_julio_diciembre_2014.csv', '../downloads\\\\senae_importacion_simplificado_enero_diciembre_2014.csv']\n",
      "['../downloads\\\\senae_importacion_general_enero_junio_2015.csv', '../downloads\\\\senae_importacion_julio_diciembre_2015.csv', '../downloads\\\\senae_importacion_simplificado_enero_diciembre_2015.csv']\n",
      "['../downloads\\\\senae_importacion_general_enero_junio_2016.csv', '../downloads\\\\senae_importacion_julio_diciembre_2016.csv', '../downloads\\\\senae_importacion_simplificado_enero_diciembre_2016.csv']\n",
      "['../downloads\\\\senae_importacion_general_enero_junio_2017.csv', '../downloads\\\\senae_importacion_general_julio_diciembre_2017.csv', '../downloads\\\\senae_importacion_simplificado_enero_diciembre_2017.csv']\n",
      "['../downloads\\\\senae_importacion_general_enero_junio_2018.csv', '../downloads\\\\senae_importacion_general_julio_diciembre_2018.csv', '../downloads\\\\senae_importacion_simplificado_enero_diciembre_2018.csv']\n",
      "['../downloads\\\\senae_importacion_general_enero_junio_2019.csv', '../downloads\\\\senae_importacion_general_julio_diciembre_2019.csv', '../downloads\\\\senae_importacion_simplificado_enero_diciembre_2019.csv']\n",
      "['../downloads\\\\senae_importacion_general_enero_junio_2020.csv', '../downloads\\\\senae_importacion_general_julio_diciembre_2020.csv', '../downloads\\\\senae_importacion_simplificado_enero_diciembre_2020.csv']\n",
      "['../downloads\\\\senae_importacion_general_enero_junio_2021.csv', '../downloads\\\\senae_importacion_general_julio_diciembre_2021.csv', '../downloads\\\\senae_importacion_simplificado_enero_diciembre_2021.csv']\n",
      "['../downloads\\\\senae_importacion_general_enero_mayo_2022.csv', '../downloads\\\\senae_importacion_simplificado_enero_mayo_2022.csv']\n"
     ]
    }
   ],
   "source": [
    "anio_list = [2013, 2014, 2015, 2016, 2017, 2018, 2019, 2020, 2021, 2022]\n",
    "for anio in anio_list:\n",
    "    file_paths_anio = glob.glob(os.path.join('../downloads/', f'senae_importacion*{anio}.csv'))\n",
    "    \n",
    "    print(file_paths_anio)"
   ]
  },
  {
   "cell_type": "code",
   "execution_count": 178,
   "metadata": {},
   "outputs": [],
   "source": [
    "varnames = [\n",
    "    'TIPO_IMPORTACION', 'FEC_INGRESO', 'DISTRITO', 'SUBPARTIDA', \n",
    "    'PAIS_ORIGEN', 'FOB',  'FLETE', 'SEGURO', 'CIF', 'SALVAGUARDIA', \n",
    "    'SALVAGUARDIA_ESPECIFICA', 'FODINFA', 'ICE_ADVALOREM', \n",
    "    'ICE_ESPECIFICO', 'IVA', 'ADVALOREM', 'ADVALOREM_ESPECIFICO'\n",
    "]\n",
    "\n",
    "file_paths_2017 = ['../downloads\\\\senae_importacion_general_enero_junio_2017.csv', '../downloads\\\\senae_importacion_general_julio_diciembre_2017.csv', '../downloads\\\\senae_importacion_simplificado_enero_diciembre_2017.csv']\n",
    "\n",
    "dfs = []\n",
    "\n",
    "for file_path in file_paths_2017:\n",
    "    df_temp = pd.read_csv(file_path, usecols=varnames, nrows=100000)\n",
    "    dfs.append(df_temp)\n",
    "\n",
    "df = pd.concat(dfs, ignore_index=True)"
   ]
  },
  {
   "cell_type": "code",
   "execution_count": 114,
   "metadata": {},
   "outputs": [
    {
     "data": {
      "text/html": [
       "<div>\n",
       "<style scoped>\n",
       "    .dataframe tbody tr th:only-of-type {\n",
       "        vertical-align: middle;\n",
       "    }\n",
       "\n",
       "    .dataframe tbody tr th {\n",
       "        vertical-align: top;\n",
       "    }\n",
       "\n",
       "    .dataframe thead th {\n",
       "        text-align: right;\n",
       "    }\n",
       "</style>\n",
       "<table border=\"1\" class=\"dataframe\">\n",
       "  <thead>\n",
       "    <tr style=\"text-align: right;\">\n",
       "      <th></th>\n",
       "      <th>TIPO_IMPORTACION</th>\n",
       "      <th>FEC_INGRESO</th>\n",
       "      <th>DISTRITO</th>\n",
       "      <th>SUBPARTIDA</th>\n",
       "      <th>PAIS_ORIGEN</th>\n",
       "      <th>FOB</th>\n",
       "      <th>FLETE</th>\n",
       "      <th>SEGURO</th>\n",
       "      <th>CIF</th>\n",
       "      <th>SALVAGUARDIA</th>\n",
       "      <th>SALVAGUARDIA_ESPECIFICA</th>\n",
       "      <th>FODINFA</th>\n",
       "      <th>ICE_ADVALOREM</th>\n",
       "      <th>ICE_ESPECIFICO</th>\n",
       "      <th>IVA</th>\n",
       "      <th>ADVALOREM</th>\n",
       "      <th>ADVALOREM_ESPECIFICO</th>\n",
       "    </tr>\n",
       "  </thead>\n",
       "  <tbody>\n",
       "    <tr>\n",
       "      <th>0</th>\n",
       "      <td>IMP.GRAL.</td>\n",
       "      <td>2017-02-24</td>\n",
       "      <td>019-GUAYAQUIL - AEREO</td>\n",
       "      <td>9405920000</td>\n",
       "      <td>FI-FINLANDIA</td>\n",
       "      <td>2368.20</td>\n",
       "      <td>109.50</td>\n",
       "      <td>24.78</td>\n",
       "      <td>2502.48</td>\n",
       "      <td>875.87</td>\n",
       "      <td>0.0</td>\n",
       "      <td>12.52</td>\n",
       "      <td>0.0</td>\n",
       "      <td>0.0</td>\n",
       "      <td>562.31</td>\n",
       "      <td>625.63</td>\n",
       "      <td>0.0</td>\n",
       "    </tr>\n",
       "    <tr>\n",
       "      <th>1</th>\n",
       "      <td>IMP.GRAL.</td>\n",
       "      <td>2017-05-22</td>\n",
       "      <td>019-GUAYAQUIL - AEREO</td>\n",
       "      <td>3917400000</td>\n",
       "      <td>US-ESTADOS UNIDOS</td>\n",
       "      <td>163.75</td>\n",
       "      <td>18.76</td>\n",
       "      <td>0.89</td>\n",
       "      <td>183.40</td>\n",
       "      <td>0.00</td>\n",
       "      <td>0.0</td>\n",
       "      <td>0.94</td>\n",
       "      <td>0.0</td>\n",
       "      <td>0.0</td>\n",
       "      <td>30.40</td>\n",
       "      <td>28.19</td>\n",
       "      <td>0.0</td>\n",
       "    </tr>\n",
       "    <tr>\n",
       "      <th>2</th>\n",
       "      <td>IMP.GRAL.</td>\n",
       "      <td>2017-06-22</td>\n",
       "      <td>019-GUAYAQUIL - AEREO</td>\n",
       "      <td>4009410000</td>\n",
       "      <td>JP-JAPON</td>\n",
       "      <td>279.88</td>\n",
       "      <td>14.52</td>\n",
       "      <td>0.22</td>\n",
       "      <td>294.62</td>\n",
       "      <td>0.00</td>\n",
       "      <td>0.0</td>\n",
       "      <td>1.47</td>\n",
       "      <td>0.0</td>\n",
       "      <td>0.0</td>\n",
       "      <td>40.84</td>\n",
       "      <td>44.19</td>\n",
       "      <td>0.0</td>\n",
       "    </tr>\n",
       "    <tr>\n",
       "      <th>3</th>\n",
       "      <td>IMP.GRAL.</td>\n",
       "      <td>2017-01-04</td>\n",
       "      <td>019-GUAYAQUIL - AEREO</td>\n",
       "      <td>8413819000</td>\n",
       "      <td>SE-SUECIA</td>\n",
       "      <td>25615.30</td>\n",
       "      <td>0.00</td>\n",
       "      <td>43.61</td>\n",
       "      <td>25658.91</td>\n",
       "      <td>0.00</td>\n",
       "      <td>0.0</td>\n",
       "      <td>140.89</td>\n",
       "      <td>0.0</td>\n",
       "      <td>0.0</td>\n",
       "      <td>4162.07</td>\n",
       "      <td>1408.96</td>\n",
       "      <td>0.0</td>\n",
       "    </tr>\n",
       "    <tr>\n",
       "      <th>4</th>\n",
       "      <td>IMP.GRAL.</td>\n",
       "      <td>2017-04-10</td>\n",
       "      <td>019-GUAYAQUIL - AEREO</td>\n",
       "      <td>4009410000</td>\n",
       "      <td>US-ESTADOS UNIDOS</td>\n",
       "      <td>25.75</td>\n",
       "      <td>0.86</td>\n",
       "      <td>0.02</td>\n",
       "      <td>26.63</td>\n",
       "      <td>0.00</td>\n",
       "      <td>0.0</td>\n",
       "      <td>0.13</td>\n",
       "      <td>0.0</td>\n",
       "      <td>0.0</td>\n",
       "      <td>4.31</td>\n",
       "      <td>3.99</td>\n",
       "      <td>0.0</td>\n",
       "    </tr>\n",
       "  </tbody>\n",
       "</table>\n",
       "</div>"
      ],
      "text/plain": [
       "  TIPO_IMPORTACION FEC_INGRESO               DISTRITO  SUBPARTIDA  \\\n",
       "0        IMP.GRAL.  2017-02-24  019-GUAYAQUIL - AEREO  9405920000   \n",
       "1        IMP.GRAL.  2017-05-22  019-GUAYAQUIL - AEREO  3917400000   \n",
       "2        IMP.GRAL.  2017-06-22  019-GUAYAQUIL - AEREO  4009410000   \n",
       "3        IMP.GRAL.  2017-01-04  019-GUAYAQUIL - AEREO  8413819000   \n",
       "4        IMP.GRAL.  2017-04-10  019-GUAYAQUIL - AEREO  4009410000   \n",
       "\n",
       "         PAIS_ORIGEN       FOB   FLETE  SEGURO       CIF  SALVAGUARDIA  \\\n",
       "0       FI-FINLANDIA   2368.20  109.50   24.78   2502.48        875.87   \n",
       "1  US-ESTADOS UNIDOS    163.75   18.76    0.89    183.40          0.00   \n",
       "2           JP-JAPON    279.88   14.52    0.22    294.62          0.00   \n",
       "3          SE-SUECIA  25615.30    0.00   43.61  25658.91          0.00   \n",
       "4  US-ESTADOS UNIDOS     25.75    0.86    0.02     26.63          0.00   \n",
       "\n",
       "   SALVAGUARDIA_ESPECIFICA  FODINFA  ICE_ADVALOREM  ICE_ESPECIFICO      IVA  \\\n",
       "0                      0.0    12.52            0.0             0.0   562.31   \n",
       "1                      0.0     0.94            0.0             0.0    30.40   \n",
       "2                      0.0     1.47            0.0             0.0    40.84   \n",
       "3                      0.0   140.89            0.0             0.0  4162.07   \n",
       "4                      0.0     0.13            0.0             0.0     4.31   \n",
       "\n",
       "   ADVALOREM  ADVALOREM_ESPECIFICO  \n",
       "0     625.63                   0.0  \n",
       "1      28.19                   0.0  \n",
       "2      44.19                   0.0  \n",
       "3    1408.96                   0.0  \n",
       "4       3.99                   0.0  "
      ]
     },
     "execution_count": 114,
     "metadata": {},
     "output_type": "execute_result"
    }
   ],
   "source": [
    "# Note: The dataframe for simplified imports has 2 columns less than \n",
    "pd.options.display.max_columns = 50\n",
    "dfs[0].head()\n",
    "\n"
   ]
  },
  {
   "cell_type": "code",
   "execution_count": 60,
   "metadata": {},
   "outputs": [
    {
     "data": {
      "text/plain": [
       "[]"
      ]
     },
     "execution_count": 60,
     "metadata": {},
     "output_type": "execute_result"
    }
   ],
   "source": [
    "columns = []\n",
    "for df in dfs:\n",
    "    columns.extend(df.columns.tolist())\n",
    "# Interesting, only `TIPO_UNIDAD_COMERCIAL` and 'CANTIDAD_COMERCIAL' are lacking\\\n",
    "# in the simplified regime dataset. I am now unlike to use them so I'll\\\n",
    "# throw them away\n",
    "[(item, count) for item, count in collections.Counter(columns).items() if count ==2]\n",
    "\n"
   ]
  },
  {
   "cell_type": "markdown",
   "metadata": {},
   "source": [
    "I now must define which variables I want to see in the final files."
   ]
  },
  {
   "cell_type": "markdown",
   "metadata": {},
   "source": [
    "Dimensionality of the importacion_simplificado frames is that number of rows keeps growing steadily It goes from around 100'000 to over 250'000. Important.\\\n",
    "They all seem to have the same columns which means I may safely procceed.\n"
   ]
  },
  {
   "cell_type": "code",
   "execution_count": 179,
   "metadata": {},
   "outputs": [],
   "source": [
    "# create `date` datetime column from FEC_INGRESO\n",
    "df['date'] = pd.to_datetime(df['FEC_INGRESO'])\n",
    "\n",
    "# Separate the variable 'PAIS_DESTINO' into iso code and country name variables\n",
    "paisD_expanded = df['PAIS_ORIGEN'].str.split(pat='-', expand=True)\n",
    "df['iso'] = paisD_expanded[0]\n",
    "df['pais'] = paisD_expanded[1]\n",
    "\n",
    "# GET CODES FOR CHAPTERS IN THE GENERAL CLASSIFICATION OF PRODUCTS: i) Change the 'SUBPARTIDA' column data type\\\n",
    "# to string. ii) create a new variable that tells us the length of the elements in 'SUBPARTIDA'. iii) \\ Whenever\n",
    "# 'SUBPARTIDA' is of length 9, add a 0 at the beginning. 'SUBPARTIDA' must be 10-digit. iv) The chapter reference \\\n",
    "# are the first two characters/digits in 'SUBPARTIDA'\n",
    "df['SUBPARTIDA'] = df['SUBPARTIDA'].astype('str')\n",
    "df['SUBPART_LENGTH'] = df['SUBPARTIDA'].str.len()\n",
    "df['SUBPARTIDA'] = np.where(df['SUBPART_LENGTH'] == 9, '0' + df['SUBPARTIDA'], df['SUBPARTIDA'])\n",
    "df['chap'] = df['SUBPARTIDA'].str.slice(stop=2)\n",
    "\n",
    "# Add up all duties to form a single column: `import_duties`\n",
    "duties=[\n",
    "    'SALVAGUARDIA', \n",
    "    'SALVAGUARDIA_ESPECIFICA', \n",
    "    'FODINFA', \n",
    "    'ICE_ADVALOREM', \n",
    "    'ICE_ESPECIFICO', \n",
    "    'IVA', \n",
    "    'ADVALOREM', \n",
    "    'ADVALOREM_ESPECIFICO'\n",
    "]\n",
    "# new var is going to be name derechos, as a rough translation of import duties\n",
    "df['duties'] = df[duties].sum(axis=1)\n",
    "\n",
    "# from variable `DISTRITO` extract specific code for the district as well as name\n",
    "df['distr_code'] = df['DISTRITO'].str.replace(' ', '').str.split('-', expand=True)[0]\n",
    "df['distr_city'] = df['DISTRITO'].str.replace(' ', '').str.split('-', expand=True)[1]\n",
    "df['distr_compl'] = df['DISTRITO'].str.replace(' ', '').str.split('-', expand=True)[2]\n",
    "\n",
    "df['distr_name'] = np.where(df['distr_compl'].isna(), df['distr_city'], df['distr_city'] + '-' + df['distr_compl'])\n",
    "\n"
   ]
  },
  {
   "cell_type": "markdown",
   "metadata": {},
   "source": []
  },
  {
   "cell_type": "code",
   "execution_count": 183,
   "metadata": {},
   "outputs": [
    {
     "data": {
      "text/plain": [
       "8365      LOJA\n",
       "11714     LOJA\n",
       "14984     LOJA\n",
       "28438     LOJA\n",
       "32747     LOJA\n",
       "39472     LOJA\n",
       "47059     LOJA\n",
       "54991     LOJA\n",
       "63690     LOJA\n",
       "79246     LOJA\n",
       "91310     LOJA\n",
       "94573     LOJA\n",
       "106716    LOJA\n",
       "110421    LOJA\n",
       "116054    LOJA\n",
       "116346    LOJA\n",
       "119555    LOJA\n",
       "120304    LOJA\n",
       "124765    LOJA\n",
       "126286    LOJA\n",
       "132386    LOJA\n",
       "134249    LOJA\n",
       "137627    LOJA\n",
       "141064    LOJA\n",
       "157356    LOJA\n",
       "181183    LOJA\n",
       "187553    LOJA\n",
       "Name: distr_city, dtype: object"
      ]
     },
     "execution_count": 183,
     "metadata": {},
     "output_type": "execute_result"
    }
   ],
   "source": [
    "df.loc[df['distr_compl'] == 'MACARA', 'distr_city'] = "
   ]
  },
  {
   "cell_type": "code",
   "execution_count": null,
   "metadata": {},
   "outputs": [],
   "source": []
  },
  {
   "cell_type": "code",
   "execution_count": null,
   "metadata": {},
   "outputs": [],
   "source": []
  },
  {
   "cell_type": "code",
   "execution_count": null,
   "metadata": {},
   "outputs": [],
   "source": []
  },
  {
   "cell_type": "code",
   "execution_count": null,
   "metadata": {},
   "outputs": [],
   "source": []
  }
 ],
 "metadata": {
  "kernelspec": {
   "display_name": "Python 3.9.7 ('base')",
   "language": "python",
   "name": "python3"
  },
  "language_info": {
   "codemirror_mode": {
    "name": "ipython",
    "version": 3
   },
   "file_extension": ".py",
   "mimetype": "text/x-python",
   "name": "python",
   "nbconvert_exporter": "python",
   "pygments_lexer": "ipython3",
   "version": "3.9.7"
  },
  "orig_nbformat": 4,
  "vscode": {
   "interpreter": {
    "hash": "87cdc7eef6c6cd4fceda7e27cb75fb28c96fc5b15f54dcab50faa1427b5814d6"
   }
  }
 },
 "nbformat": 4,
 "nbformat_minor": 2
}
